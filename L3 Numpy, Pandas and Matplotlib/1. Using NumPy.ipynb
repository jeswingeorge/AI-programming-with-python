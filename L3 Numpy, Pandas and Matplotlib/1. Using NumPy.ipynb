{
 "cells": [
  {
   "cell_type": "code",
   "execution_count": 1,
   "id": "cb711aed",
   "metadata": {},
   "outputs": [],
   "source": [
    "import time\n",
    "import numpy as np"
   ]
  },
  {
   "cell_type": "code",
   "execution_count": 2,
   "id": "90eaae5a",
   "metadata": {},
   "outputs": [],
   "source": [
    "x = np.random.random(100000000)"
   ]
  },
  {
   "cell_type": "code",
   "execution_count": 3,
   "id": "9bfacd1e",
   "metadata": {},
   "outputs": [
    {
     "name": "stdout",
     "output_type": "stream",
     "text": [
      "<class 'numpy.ndarray'>\n",
      "100000000\n"
     ]
    }
   ],
   "source": [
    "print(type(x))\n",
    "print(len(x))"
   ]
  },
  {
   "cell_type": "code",
   "execution_count": 4,
   "id": "ff38f385",
   "metadata": {},
   "outputs": [
    {
     "name": "stdout",
     "output_type": "stream",
     "text": [
      "16.71804165840149\n"
     ]
    }
   ],
   "source": [
    "start = time.time()\n",
    "sum(x)/len(x)\n",
    "print(time.time()-start)"
   ]
  },
  {
   "cell_type": "markdown",
   "id": "f61288d6",
   "metadata": {},
   "source": [
    "### Benefits of using NumPy\n",
    "Even though Python lists are great on their own, NumPy has a number of key features that give it great advantages over Python lists. Below are a few convincingly strong features:\n",
    "\n",
    "1. One such feature is __speed__. When performing operations on large arrays NumPy can often perform several orders of magnitude faster than Python lists. This speed comes from the nature of NumPy arrays being memory-efficient and from optimized algorithms used by NumPy for doing arithmetic, statistical, and linear algebra operations.\n",
    "\n",
    "2. Another great feature of NumPy is that it has __multidimensional array data structures__ that can represent vectors and matrices. You will learn all about vectors and matrices in the Linear Algebra section of this course later on, and as you will soon see, a lot of machine learning algorithms rely on matrix operations. For example, when training a Neural Network, you often have to carry out many matrix multiplications. NumPy is optimized for matrix operations and it allows us to do Linear Algebra operations effectively and efficiently, making it very suitable for solving machine learning problems.\n",
    "\n",
    "3. Another great advantage of NumPy over Python lists is that NumPy has a large number of __optimized built-in mathematical functions__. These functions allow you to do a variety of complex mathematical computations very fast and with very little code (avoiding the use of complicated loops) making your programs more readable and easier to understand.\n",
    "\n",
    "\n",
    "These are just some of the key features that have made NumPy an essential package for scientific computing in Python. In fact, NumPy has become so popular that a lot of Python packages, such as Pandas, are built on top of NumPy."
   ]
  },
  {
   "cell_type": "markdown",
   "id": "70ed92f2",
   "metadata": {},
   "source": [
    "## Creating and saving numpy arrays"
   ]
  },
  {
   "cell_type": "code",
   "execution_count": 1,
   "id": "ba971197",
   "metadata": {},
   "outputs": [
    {
     "name": "stdout",
     "output_type": "stream",
     "text": [
      "[1 2 3 4 5]\n",
      "<class 'numpy.ndarray'>\n"
     ]
    }
   ],
   "source": [
    "import numpy as np\n",
    "\n",
    "x = np.array([1,2,3,4,5])\n",
    "print(x)\n",
    "print(type(x))"
   ]
  },
  {
   "cell_type": "code",
   "execution_count": 2,
   "id": "66e548a9",
   "metadata": {},
   "outputs": [
    {
     "data": {
      "text/plain": [
       "dtype('int32')"
      ]
     },
     "execution_count": 2,
     "metadata": {},
     "output_type": "execute_result"
    }
   ],
   "source": [
    "x.dtype"
   ]
  },
  {
   "cell_type": "code",
   "execution_count": 6,
   "id": "2cefa17f",
   "metadata": {},
   "outputs": [
    {
     "data": {
      "text/plain": [
       "(5,)"
      ]
     },
     "execution_count": 6,
     "metadata": {},
     "output_type": "execute_result"
    }
   ],
   "source": [
    "x.shape"
   ]
  },
  {
   "cell_type": "markdown",
   "id": "0d8edff4",
   "metadata": {},
   "source": [
    "Notice `x.dtype` and `type(x)` gives different result.  \n",
    "`type(x)` gives the type of array x.  \n",
    "`x.dtype` gives the type of elements in the array x. It tells us that elements of x are stored in memory as signed 64-bit integers.\n",
    "\n",
    "`x.shape` - This attribute returns a tuple and specifies the size of each dimension (i.e, number of elements) as an integer.\n",
    "\n",
    "If we had a 2-dimensional array the shape attribute would return a tuple with two values - one for the number of rows and one for the number of columns."
   ]
  },
  {
   "cell_type": "code",
   "execution_count": 3,
   "id": "ba737f84",
   "metadata": {},
   "outputs": [
    {
     "name": "stdout",
     "output_type": "stream",
     "text": [
      "[[ 1  2  3]\n",
      " [ 4  5  6]\n",
      " [ 7  8  9]\n",
      " [10 11 12]]\n"
     ]
    }
   ],
   "source": [
    "Y = np.array([[1,2,3], [4,5,6], [7,8,9], [10, 11, 12]]) # creating a 2D numpy array with nested python list\n",
    "print(Y)"
   ]
  },
  {
   "cell_type": "code",
   "execution_count": 4,
   "id": "26696b4c",
   "metadata": {},
   "outputs": [
    {
     "data": {
      "text/plain": [
       "(4, 3)"
      ]
     },
     "execution_count": 4,
     "metadata": {},
     "output_type": "execute_result"
    }
   ],
   "source": [
    "Y.shape  # 4 number of rows and 3 number of columns"
   ]
  },
  {
   "cell_type": "code",
   "execution_count": 5,
   "id": "ef556353",
   "metadata": {},
   "outputs": [
    {
     "data": {
      "text/plain": [
       "12"
      ]
     },
     "execution_count": 5,
     "metadata": {},
     "output_type": "execute_result"
    }
   ],
   "source": [
    "Y.size    # shows the total elements in Y"
   ]
  },
  {
   "cell_type": "markdown",
   "id": "222680ba",
   "metadata": {},
   "source": [
    "In general, we say that an array with n-dimensions has a rank n. So, the 1-D array `x` we created earlier can be referred to as a rank 1 array. And the 2-D array `Y` can be referred to as as rank 2 array.\n",
    "\n",
    "Create a 1-D array `x2` with string elements."
   ]
  },
  {
   "cell_type": "code",
   "execution_count": 7,
   "id": "340c4e20",
   "metadata": {},
   "outputs": [
    {
     "name": "stdout",
     "output_type": "stream",
     "text": [
      "['Hello' 'World']\n"
     ]
    }
   ],
   "source": [
    "x2 = np.array(['Hello', 'World'])\n",
    "print(x2)"
   ]
  },
  {
   "cell_type": "code",
   "execution_count": 8,
   "id": "a17a1026",
   "metadata": {},
   "outputs": [
    {
     "name": "stdout",
     "output_type": "stream",
     "text": [
      "Shape of array x2:  (2,)\n",
      "Type of array x2:  <class 'numpy.ndarray'>\n",
      "dtypes of x2:  <U5\n"
     ]
    }
   ],
   "source": [
    "print('Shape of array x2: ', x2.shape)\n",
    "print('Type of array x2: ', type(x2))\n",
    "print('dtypes of x2: ', x2.dtype)"
   ]
  },
  {
   "cell_type": "markdown",
   "id": "e7f03f34",
   "metadata": {},
   "source": [
    "Observe dtype of this array is unicode string of 5 characters. So when numpy creates an array it automatically assigns its dtypes based on the type of the elements you used to create the array.\n",
    "\n",
    "What happens when we create a numpy array from a list of integers and string data types? "
   ]
  },
  {
   "cell_type": "code",
   "execution_count": 9,
   "id": "da7c88d2",
   "metadata": {},
   "outputs": [
    {
     "name": "stdout",
     "output_type": "stream",
     "text": [
      "['1' '2' 'Jeswin']\n",
      "Shape of array x3:  (3,)\n",
      "Type of array x3:  <class 'numpy.ndarray'>\n",
      "dtypes of x3:  <U11\n"
     ]
    }
   ],
   "source": [
    "x3 = np.array([1,2,'Jeswin'])\n",
    "print(x3)\n",
    "print('Shape of array x3: ', x3.shape)\n",
    "print('Type of array x3: ', type(x3))\n",
    "print('dtypes of x3: ', x3.dtype)"
   ]
  },
  {
   "cell_type": "markdown",
   "id": "bdf6b9f0",
   "metadata": {},
   "source": [
    "Notice all elements of the numpy array has been converted to strings - namely unicode strings of 21 characters.\n",
    "\n",
    "Unlike python list, numpy array must contain elements of the same type.\n",
    "  \n",
    "If we create numpy array from a list of integers and floats. Numpy assign all element to float64 data type. This is called __Upcasting__. "
   ]
  },
  {
   "cell_type": "code",
   "execution_count": 10,
   "id": "98e407a3",
   "metadata": {},
   "outputs": [
    {
     "name": "stdout",
     "output_type": "stream",
     "text": [
      "[1.  2.5 3. ]\n",
      "Shape of array x4:  (3,)\n",
      "Type of array x4:  <class 'numpy.ndarray'>\n",
      "dtypes of x4:  float64\n"
     ]
    }
   ],
   "source": [
    "x4 = np.array([1,2.5,3])\n",
    "print(x4)\n",
    "print('Shape of array x4: ', x4.shape)\n",
    "print('Type of array x4: ', type(x4))\n",
    "print('dtypes of x4: ', x4.dtype)"
   ]
  },
  {
   "cell_type": "markdown",
   "id": "d4fcc24d",
   "metadata": {},
   "source": [
    "Numpy also allows you to specify particular dtype you want to assign to elements of an array. Observe in the below example- numpy array has integer elements only even though we passed float elements to it."
   ]
  },
  {
   "cell_type": "code",
   "execution_count": 13,
   "id": "a622758e",
   "metadata": {},
   "outputs": [
    {
     "name": "stdout",
     "output_type": "stream",
     "text": [
      "[1 2 3]\n",
      "Shape of array x5:  (3,)\n",
      "Type of array x5:  <class 'numpy.ndarray'>\n",
      "dtypes of x5:  int64\n"
     ]
    }
   ],
   "source": [
    "x5 = np.array([1.4,2.5,3.2], dtype = np.int64)\n",
    "print(x5)\n",
    "print('Shape of array x5: ', x5.shape)\n",
    "print('Type of array x5: ', type(x5))\n",
    "print('dtypes of x5: ', x5.dtype)"
   ]
  },
  {
   "cell_type": "markdown",
   "id": "a86ba078",
   "metadata": {},
   "source": [
    "Specifying the data type is useful in those cases where we dont want to accidentally choose wrong data type or you want only certain amount of precision and want to save memory.\n",
    "\n",
    "Numpy array can also be saved in a numpy file for future use - `np.save('my_array', x)` this will save the array as a `my_array.npy` file"
   ]
  },
  {
   "cell_type": "code",
   "execution_count": 14,
   "id": "170fc424",
   "metadata": {},
   "outputs": [],
   "source": [
    "x = np.array([1,2,3,4,5])\n",
    "np.save('my_array',x)"
   ]
  },
  {
   "cell_type": "markdown",
   "id": "d3bedb9a",
   "metadata": {},
   "source": [
    "Loading the __my_array.npy__ file using `np.load('my_array.npy')`."
   ]
  },
  {
   "cell_type": "code",
   "execution_count": 15,
   "id": "a997e2e6",
   "metadata": {},
   "outputs": [
    {
     "data": {
      "text/plain": [
       "array([1, 2, 3, 4, 5])"
      ]
     },
     "execution_count": 15,
     "metadata": {},
     "output_type": "execute_result"
    }
   ],
   "source": [
    "y = np.load('my_array.npy')\n",
    "y"
   ]
  }
 ],
 "metadata": {
  "kernelspec": {
   "display_name": "Python 3 (ipykernel)",
   "language": "python",
   "name": "python3"
  },
  "language_info": {
   "codemirror_mode": {
    "name": "ipython",
    "version": 3
   },
   "file_extension": ".py",
   "mimetype": "text/x-python",
   "name": "python",
   "nbconvert_exporter": "python",
   "pygments_lexer": "ipython3",
   "version": "3.9.7"
  }
 },
 "nbformat": 4,
 "nbformat_minor": 5
}
