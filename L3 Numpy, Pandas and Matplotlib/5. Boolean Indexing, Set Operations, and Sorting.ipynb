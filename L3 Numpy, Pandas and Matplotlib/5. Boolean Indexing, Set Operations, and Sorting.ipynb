{
 "cells": [
  {
   "cell_type": "code",
   "execution_count": 1,
   "metadata": {},
   "outputs": [],
   "source": [
    "import numpy as np"
   ]
  },
  {
   "cell_type": "markdown",
   "metadata": {},
   "source": [
    "Situations in which we don't know the indices of the elements we want to select. For example, suppose we have a 10,000 x 10,000 ndarray of random integers ranging from 1 to 15,000 and we only want to select those integers that are less than 20. _Boolean indexing_ can help us in these cases, by allowing us select elements using logical arguments instead of explicit indices.\n",
    "\n",
    "### Boolean indexing"
   ]
  },
  {
   "cell_type": "code",
   "execution_count": 2,
   "metadata": {},
   "outputs": [
    {
     "name": "stdout",
     "output_type": "stream",
     "text": [
      "Original X = \n",
      " [[ 0  1  2  3  4]\n",
      " [ 5  6  7  8  9]\n",
      " [10 11 12 13 14]\n",
      " [15 16 17 18 19]\n",
      " [20 21 22 23 24]]\n",
      "The elements in X that are greater than 10: [11 12 13 14 15 16 17 18 19 20 21 22 23 24]\n",
      "The elements in X that less than or equal to 7: [0 1 2 3 4 5 6 7]\n",
      "The elements in X that are between 10 and 17: [11 12 13 14 15 16]\n"
     ]
    }
   ],
   "source": [
    "# We create a 5 x 5 ndarray that contains integers from 0 to 24\n",
    "X = np.arange(25).reshape(5, 5)\n",
    "\n",
    "print('Original X = \\n', X)\n",
    "# We use Boolean indexing to select elements in X:\n",
    "print('The elements in X that are greater than 10:', X[X > 10])\n",
    "print('The elements in X that less than or equal to 7:', X[X <= 7])\n",
    "print('The elements in X that are between 10 and 17:', X[(X > 10) & (X < 17)])\n"
   ]
  },
  {
   "cell_type": "code",
   "execution_count": 3,
   "metadata": {},
   "outputs": [
    {
     "name": "stdout",
     "output_type": "stream",
     "text": [
      "X = \n",
      " [[ 0  1  2  3  4]\n",
      " [ 5  6  7  8  9]\n",
      " [10 -1 -1 -1 -1]\n",
      " [-1 -1 17 18 19]\n",
      " [20 21 22 23 24]]\n"
     ]
    }
   ],
   "source": [
    "# We use Boolean indexing to assign the elements that are between 10 and 17 the value of -1\n",
    "X[(X > 10) & (X < 17)] = -1\n",
    "print('X = \\n', X)"
   ]
  },
  {
   "cell_type": "markdown",
   "metadata": {},
   "source": [
    "#### 3. Set Operations"
   ]
  },
  {
   "cell_type": "code",
   "execution_count": 4,
   "metadata": {},
   "outputs": [
    {
     "name": "stdout",
     "output_type": "stream",
     "text": [
      "x =  [1 2 3 4 5]\n",
      "y =  [6 7 2 8 4]\n",
      "The elements that are both in x and y: [2 4]\n",
      "The elements that are in x that are not in y: [1 3 5]\n",
      "All the elements of x and y: [1 2 3 4 5 6 7 8]\n"
     ]
    }
   ],
   "source": [
    "# We create a rank 1 ndarray\n",
    "x = np.array([1,2,3,4,5])\n",
    "\n",
    "# We create a rank 1 ndarray\n",
    "y = np.array([6,7,2,8,4])\n",
    "\n",
    "print('x = ', x)\n",
    "print('y = ', y)\n",
    "\n",
    "print('The elements that are both in x and y:', np.intersect1d(x,y))\n",
    "print('The elements that are in x that are not in y:', np.setdiff1d(x,y))\n",
    "print('All the elements of x and y:',np.union1d(x,y))"
   ]
  },
  {
   "cell_type": "markdown",
   "metadata": {},
   "source": [
    "#### 4. numpy.ndarray.sort method\n",
    "\n",
    "```\n",
    "ndarray.sort(axis=-1, kind=None, order=None)\n",
    "```\n",
    "\n",
    "The method above sorts an array in-place. All arguments are optional, see the details here.\n",
    "\n",
    "Like with other functions we saw before, the `sort` can be used as a method as well as a function. The difference lies in how the data is stored in memory in this case.\n",
    "\n",
    "- When `numpy.sort()` is used as a function, it sorts the ndrrays out of place, meaning, that it doesn't change the original ndarray being sorted.\n",
    "- On the other hand, when you use `numpy.ndarray.sort()` as a method, `ndarray.sort()` sorts the ndarray in place, meaning, that the original array will be changed to the sorted one."
   ]
  },
  {
   "cell_type": "code",
   "execution_count": 5,
   "metadata": {},
   "outputs": [
    {
     "name": "stdout",
     "output_type": "stream",
     "text": [
      "Original x =  [8 2 6 3 2 2 3 1 9 4]\n",
      "Sorted x (out of place): [1 2 2 2 3 3 4 6 8 9]\n",
      "x after sorting: [8 2 6 3 2 2 3 1 9 4]\n"
     ]
    }
   ],
   "source": [
    "# We create an unsorted rank 1 ndarray\n",
    "x = np.random.randint(1,11,size=(10,))\n",
    "print('Original x = ', x)\n",
    "# We sort x and print the sorted array using sort as a function.\n",
    "print('Sorted x (out of place):', np.sort(x))\n",
    "\n",
    "# When we sort out of place the original array remains intact. To see this we print x again\n",
    "print('x after sorting:', x)"
   ]
  },
  {
   "cell_type": "markdown",
   "metadata": {},
   "source": [
    "Notice that `np.sort()` sorts the array but, if the ndarray being sorted has repeated values, `np.sort()` leaves those values in the sorted array. However, if desired, we can use the `unique()` function."
   ]
  },
  {
   "cell_type": "code",
   "execution_count": 6,
   "metadata": {},
   "outputs": [
    {
     "name": "stdout",
     "output_type": "stream",
     "text": [
      "[1 2 3 4 6 8 9]\n"
     ]
    }
   ],
   "source": [
    "# Returns the sorted unique elements of an array\n",
    "print(np.unique(x))"
   ]
  },
  {
   "cell_type": "markdown",
   "metadata": {},
   "source": [
    "Finally, let's see how we can sort ndarrays in place, by using sort as a method:\n",
    "#### Sort rank-1 arrays using sort() method"
   ]
  },
  {
   "cell_type": "code",
   "execution_count": 7,
   "metadata": {},
   "outputs": [
    {
     "name": "stdout",
     "output_type": "stream",
     "text": [
      "Original x =  [7 2 5 4 3 3 3 2 2 9]\n",
      "x after sorting: [2 2 2 3 3 3 4 5 7 9]\n"
     ]
    }
   ],
   "source": [
    "# We create an unsorted rank 1 ndarray\n",
    "x = np.random.randint(1,11,size=(10,))\n",
    "print('Original x = ', x)\n",
    "# We sort x and print the sorted array using sort as a method.\n",
    "x.sort()\n",
    "# When we sort in place the original array is changed to the sorted array. To see this we print x again\n",
    "print('x after sorting:', x)"
   ]
  },
  {
   "cell_type": "markdown",
   "metadata": {},
   "source": [
    "#### `numpy.sort function`\n",
    "\n",
    "```\n",
    "numpy.sort(array, axis=-1, kind=None, order=None)\n",
    "```\n",
    "It returns a sorted copy of an array. The axis denotes the `axis` along which to sort. It can take values in the range `-1` to `(ndim-1)`. Axis can take the following possible values for a given 2-D ndarray:\n",
    "- If nothing is specified, the default value is `axis = -1`, which sorts along the last axis. In the case of a given 2-D ndarray, the last axis value is 1.\n",
    "- If explicitly `axis = None` is specified, the array is flattened before sorting. It will return a 1-D array.\n",
    "- If axis = 0 is specified for a given 2-D array - For one column at a time, the function will sort all rows, without disturbing other elements. In the final output, you will see that each column has been sorted individually.\n",
    "- The output of `axis = 1` for a given 2-D array is vice-versa for `axis = 0`. In the final output, you will see that each row has been sorted individually.\n",
    "\n",
    "__Tip:__ As mentioned in this discussion, you can read `axis = 0` as \"__down__\" and `axis = 1` as \"__across__\" the given 2-D array, to have a correct usage of axis in your methods/functions.\n",
    "\n",
    "##### Sort rank-2 arrays by specific axis."
   ]
  },
  {
   "cell_type": "code",
   "execution_count": 8,
   "metadata": {},
   "outputs": [
    {
     "name": "stdout",
     "output_type": "stream",
     "text": [
      "Original X = \n",
      " [[ 5  7  3  5 10]\n",
      " [ 6 10  2 10  9]\n",
      " [ 1  5  5  1  3]\n",
      " [ 9  5  8  2 10]\n",
      " [ 7 10  7  1  9]]\n",
      "X with sorted columns :\n",
      " [[ 1  5  2  1  3]\n",
      " [ 5  5  3  1  9]\n",
      " [ 6  7  5  2  9]\n",
      " [ 7 10  7  5 10]\n",
      " [ 9 10  8 10 10]]\n",
      "X with sorted rows :\n",
      " [[ 3  5  5  7 10]\n",
      " [ 2  6  9 10 10]\n",
      " [ 1  1  3  5  5]\n",
      " [ 2  5  8  9 10]\n",
      " [ 1  7  7  9 10]]\n"
     ]
    }
   ],
   "source": [
    "# We create an unsorted rank 2 ndarray\n",
    "X = np.random.randint(1,11,size=(5,5))\n",
    "print('Original X = \\n', X)\n",
    "# We sort the columns of X and print the sorted array\n",
    "print('X with sorted columns :\\n', np.sort(X, axis = 0))\n",
    "\n",
    "# We sort the rows of X and print the sorted array\n",
    "print('X with sorted rows :\\n', np.sort(X, axis = 1))"
   ]
  }
 ],
 "metadata": {
  "interpreter": {
   "hash": "c6d9031e658debb2ea8943e06a648314df12deac922ea91a3af9df8928bf1d5c"
  },
  "kernelspec": {
   "display_name": "Python 3.9.7 64-bit ('base': conda)",
   "language": "python",
   "name": "python3"
  },
  "language_info": {
   "codemirror_mode": {
    "name": "ipython",
    "version": 3
   },
   "file_extension": ".py",
   "mimetype": "text/x-python",
   "name": "python",
   "nbconvert_exporter": "python",
   "pygments_lexer": "ipython3",
   "version": "3.9.7"
  },
  "orig_nbformat": 4
 },
 "nbformat": 4,
 "nbformat_minor": 2
}
